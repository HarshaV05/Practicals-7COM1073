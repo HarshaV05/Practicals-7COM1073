{
 "cells": [
  {
   "cell_type": "markdown",
   "metadata": {},
   "source": [
    "## 7COM1073-0901-Foundations of Data Science .Practical B (02/10/19)\n",
    "### Practical 01"
   ]
  },
  {
   "cell_type": "code",
   "execution_count": 1,
   "metadata": {},
   "outputs": [
    {
     "name": "stdout",
     "output_type": "stream",
     "text": [
      "Help on built-in function len in module builtins:\n",
      "\n",
      "len(obj, /)\n",
      "    Return the number of items in a container.\n",
      "\n"
     ]
    }
   ],
   "source": [
    "help(len)"
   ]
  },
  {
   "cell_type": "code",
   "execution_count": 2,
   "metadata": {},
   "outputs": [],
   "source": [
    "len?"
   ]
  },
  {
   "cell_type": "code",
   "execution_count": 3,
   "metadata": {},
   "outputs": [
    {
     "name": "stdout",
     "output_type": "stream",
     "text": [
      "Help on built-in function print in module builtins:\n",
      "\n",
      "print(...)\n",
      "    print(value, ..., sep=' ', end='\\n', file=sys.stdout, flush=False)\n",
      "    \n",
      "    Prints the values to a stream, or to sys.stdout by default.\n",
      "    Optional keyword arguments:\n",
      "    file:  a file-like object (stream); defaults to the current sys.stdout.\n",
      "    sep:   string inserted between values, default a space.\n",
      "    end:   string appended after the last value, default a newline.\n",
      "    flush: whether to forcibly flush the stream.\n",
      "\n"
     ]
    }
   ],
   "source": [
    "help(print)"
   ]
  },
  {
   "cell_type": "code",
   "execution_count": 4,
   "metadata": {},
   "outputs": [],
   "source": [
    "def square(x):\n",
    "    ''' Square of the given number'''\n",
    "    return x**2"
   ]
  },
  {
   "cell_type": "code",
   "execution_count": 5,
   "metadata": {},
   "outputs": [
    {
     "data": {
      "text/plain": [
       "100"
      ]
     },
     "execution_count": 5,
     "metadata": {},
     "output_type": "execute_result"
    }
   ],
   "source": [
    "square(10)"
   ]
  },
  {
   "cell_type": "code",
   "execution_count": 6,
   "metadata": {},
   "outputs": [
    {
     "name": "stdout",
     "output_type": "stream",
     "text": [
      "Help on function square in module __main__:\n",
      "\n",
      "square(x)\n",
      "    Square of the given number\n",
      "\n"
     ]
    }
   ],
   "source": [
    "help(square)\n",
    "square?"
   ]
  },
  {
   "cell_type": "code",
   "execution_count": 7,
   "metadata": {},
   "outputs": [],
   "source": [
    "import numpy as np"
   ]
  },
  {
   "cell_type": "code",
   "execution_count": 8,
   "metadata": {},
   "outputs": [
    {
     "name": "stdout",
     "output_type": "stream",
     "text": [
      "<class 'list'>\n",
      "[1, 2, 3, 4]\n"
     ]
    }
   ],
   "source": [
    "my_list = [1,2,3,4]\n",
    "print(type(my_list))\n",
    "print(my_list)"
   ]
  },
  {
   "cell_type": "code",
   "execution_count": 9,
   "metadata": {},
   "outputs": [
    {
     "name": "stdout",
     "output_type": "stream",
     "text": [
      "<class 'numpy.ndarray'>\n"
     ]
    }
   ],
   "source": [
    "A = np.array(my_list)\n",
    "print(type(A))"
   ]
  },
  {
   "cell_type": "code",
   "execution_count": 10,
   "metadata": {},
   "outputs": [
    {
     "name": "stdout",
     "output_type": "stream",
     "text": [
      "[1 2 3 4]\n"
     ]
    }
   ],
   "source": [
    "print(A)"
   ]
  },
  {
   "cell_type": "markdown",
   "metadata": {},
   "source": [
    "### Task01:"
   ]
  },
  {
   "cell_type": "code",
   "execution_count": 11,
   "metadata": {},
   "outputs": [
    {
     "data": {
      "text/plain": [
       "array([1, 4, 0, 1])"
      ]
     },
     "execution_count": 11,
     "metadata": {},
     "output_type": "execute_result"
    }
   ],
   "source": [
    "np.random.seed(10)\n",
    "a = np.random.randint(5,size=4)\n",
    "a"
   ]
  },
  {
   "cell_type": "code",
   "execution_count": 12,
   "metadata": {},
   "outputs": [
    {
     "data": {
      "text/plain": [
       "array([[3, 4, 1],\n",
       "       [0, 1, 2]])"
      ]
     },
     "execution_count": 12,
     "metadata": {},
     "output_type": "execute_result"
    }
   ],
   "source": [
    "b = np.random.randint(5,size=(2,3))\n",
    "b"
   ]
  },
  {
   "cell_type": "markdown",
   "metadata": {},
   "source": [
    "#### The meaning of value 5 in the above code by typing np.random.randint?\n",
    "##### Number 5 determines the range of values that an array can take. \n",
    "##### In this case array can take values 0,1,2,3 and 4"
   ]
  },
  {
   "cell_type": "code",
   "execution_count": 13,
   "metadata": {},
   "outputs": [
    {
     "name": "stdout",
     "output_type": "stream",
     "text": [
      "[1 4 0 1]\n"
     ]
    }
   ],
   "source": [
    "print(a)"
   ]
  },
  {
   "cell_type": "code",
   "execution_count": 14,
   "metadata": {},
   "outputs": [
    {
     "name": "stdout",
     "output_type": "stream",
     "text": [
      "[[3 4 1]\n",
      " [0 1 2]]\n"
     ]
    }
   ],
   "source": [
    "print(b)"
   ]
  },
  {
   "cell_type": "code",
   "execution_count": 15,
   "metadata": {},
   "outputs": [
    {
     "name": "stdout",
     "output_type": "stream",
     "text": [
      "array 'a' is 1 dimensional \n"
     ]
    }
   ],
   "source": [
    "print(\"array 'a' is {0} dimensional \".format( a.ndim ))"
   ]
  },
  {
   "cell_type": "code",
   "execution_count": 16,
   "metadata": {},
   "outputs": [
    {
     "data": {
      "text/plain": [
       "(4,)"
      ]
     },
     "execution_count": 16,
     "metadata": {},
     "output_type": "execute_result"
    }
   ],
   "source": [
    "a.shape"
   ]
  },
  {
   "cell_type": "code",
   "execution_count": 17,
   "metadata": {},
   "outputs": [
    {
     "data": {
      "text/plain": [
       "4"
      ]
     },
     "execution_count": 17,
     "metadata": {},
     "output_type": "execute_result"
    }
   ],
   "source": [
    "a.size"
   ]
  },
  {
   "cell_type": "code",
   "execution_count": 18,
   "metadata": {},
   "outputs": [
    {
     "data": {
      "text/plain": [
       "dtype('int32')"
      ]
     },
     "execution_count": 18,
     "metadata": {},
     "output_type": "execute_result"
    }
   ],
   "source": [
    "a.dtype"
   ]
  },
  {
   "cell_type": "code",
   "execution_count": 19,
   "metadata": {},
   "outputs": [
    {
     "data": {
      "text/plain": [
       "4"
      ]
     },
     "execution_count": 19,
     "metadata": {},
     "output_type": "execute_result"
    }
   ],
   "source": [
    "a.itemsize"
   ]
  },
  {
   "cell_type": "code",
   "execution_count": 20,
   "metadata": {},
   "outputs": [
    {
     "data": {
      "text/plain": [
       "16"
      ]
     },
     "execution_count": 20,
     "metadata": {},
     "output_type": "execute_result"
    }
   ],
   "source": [
    "a.nbytes"
   ]
  },
  {
   "cell_type": "markdown",
   "metadata": {},
   "source": [
    "### Task 02: \n",
    "#### Investigate these attributes of array b using the built-in function print()"
   ]
  },
  {
   "cell_type": "code",
   "execution_count": 21,
   "metadata": {},
   "outputs": [
    {
     "name": "stdout",
     "output_type": "stream",
     "text": [
      "array 'b' is 2 dimensional \n"
     ]
    }
   ],
   "source": [
    "print(\"array 'b' is {0} dimensional \".format( b.ndim ))"
   ]
  },
  {
   "cell_type": "code",
   "execution_count": 22,
   "metadata": {},
   "outputs": [
    {
     "name": "stdout",
     "output_type": "stream",
     "text": [
      "(2, 3)\n"
     ]
    }
   ],
   "source": [
    "print(b.shape)"
   ]
  },
  {
   "cell_type": "code",
   "execution_count": 23,
   "metadata": {},
   "outputs": [
    {
     "name": "stdout",
     "output_type": "stream",
     "text": [
      "6\n"
     ]
    }
   ],
   "source": [
    "print(b.size)"
   ]
  },
  {
   "cell_type": "code",
   "execution_count": 24,
   "metadata": {},
   "outputs": [
    {
     "name": "stdout",
     "output_type": "stream",
     "text": [
      "int32\n"
     ]
    }
   ],
   "source": [
    "print(b.dtype)"
   ]
  },
  {
   "cell_type": "code",
   "execution_count": 25,
   "metadata": {},
   "outputs": [
    {
     "name": "stdout",
     "output_type": "stream",
     "text": [
      "4\n"
     ]
    }
   ],
   "source": [
    "print(b.itemsize)"
   ]
  },
  {
   "cell_type": "code",
   "execution_count": 26,
   "metadata": {},
   "outputs": [
    {
     "name": "stdout",
     "output_type": "stream",
     "text": [
      "24\n"
     ]
    }
   ],
   "source": [
    "print(b.nbytes)"
   ]
  },
  {
   "cell_type": "markdown",
   "metadata": {},
   "source": [
    "### Task03:"
   ]
  },
  {
   "cell_type": "code",
   "execution_count": 27,
   "metadata": {},
   "outputs": [
    {
     "name": "stdout",
     "output_type": "stream",
     "text": [
      "[1 4 0 1]\n"
     ]
    }
   ],
   "source": [
    "print(a)"
   ]
  },
  {
   "cell_type": "code",
   "execution_count": 28,
   "metadata": {},
   "outputs": [
    {
     "name": "stdout",
     "output_type": "stream",
     "text": [
      "Second value in 'a' is 4\n"
     ]
    }
   ],
   "source": [
    "print(\"Second value in 'a' is\", a[1])"
   ]
  },
  {
   "cell_type": "code",
   "execution_count": 29,
   "metadata": {},
   "outputs": [
    {
     "name": "stdout",
     "output_type": "stream",
     "text": [
      "Last second value in 'a' 0\n"
     ]
    }
   ],
   "source": [
    "print(\"Last second value in 'a'\",a[-2] )"
   ]
  },
  {
   "cell_type": "markdown",
   "metadata": {},
   "source": [
    "### Task 04:"
   ]
  },
  {
   "cell_type": "code",
   "execution_count": 30,
   "metadata": {},
   "outputs": [
    {
     "name": "stdout",
     "output_type": "stream",
     "text": [
      "[[3 4 1]\n",
      " [0 1 2]]\n"
     ]
    }
   ],
   "source": [
    "print(b)"
   ]
  },
  {
   "cell_type": "code",
   "execution_count": 31,
   "metadata": {},
   "outputs": [
    {
     "name": "stdout",
     "output_type": "stream",
     "text": [
      "last second value in the first row of 'b': 4\n"
     ]
    }
   ],
   "source": [
    "print(\"last second value in the first row of 'b':\", b[0,1])"
   ]
  },
  {
   "cell_type": "code",
   "execution_count": 32,
   "metadata": {},
   "outputs": [
    {
     "name": "stdout",
     "output_type": "stream",
     "text": [
      " second value in the second row of 'b' using the negative indices: 1\n"
     ]
    }
   ],
   "source": [
    "print(\" second value in the second row of 'b' using the negative indices:\" , b[1,-2])"
   ]
  },
  {
   "cell_type": "markdown",
   "metadata": {},
   "source": [
    "### Task 05:"
   ]
  },
  {
   "cell_type": "code",
   "execution_count": 33,
   "metadata": {},
   "outputs": [
    {
     "data": {
      "text/plain": [
       "array([ 0,  1,  2,  3,  4,  5,  6,  7,  8,  9, 10, 11])"
      ]
     },
     "execution_count": 33,
     "metadata": {},
     "output_type": "execute_result"
    }
   ],
   "source": [
    "c = np.arange(12)\n",
    "c"
   ]
  },
  {
   "cell_type": "code",
   "execution_count": 34,
   "metadata": {},
   "outputs": [
    {
     "name": "stdout",
     "output_type": "stream",
     "text": [
      "[ 4  5  6  7  8  9 10 11]\n",
      "[0 2]\n",
      "[0 3 6 9]\n",
      "[ 1  3  5  7  9 11]\n",
      "[5 4 3 2 1 0]\n"
     ]
    }
   ],
   "source": [
    "# Getting subarrays:\n",
    "print(c[4:])\n",
    "print(c[0:4:2])\n",
    "print(c[::3])\n",
    "print(c[1::2])\n",
    "print(c[5::-1])"
   ]
  },
  {
   "cell_type": "code",
   "execution_count": 35,
   "metadata": {},
   "outputs": [
    {
     "name": "stdout",
     "output_type": "stream",
     "text": [
      "[[ 8  9  0]\n",
      " [10  8  6]\n",
      " [ 4  3  0]\n",
      " [ 4 11  6]]\n",
      "[[10  8]\n",
      " [ 4  3]\n",
      " [ 4 11]]\n"
     ]
    }
   ],
   "source": [
    "# Slicing multi-dimensional arrays:\n",
    "x = np.random.randint(12,size=(4,3))\n",
    "print(x)\n",
    "print(x[1::,:2:])"
   ]
  },
  {
   "cell_type": "code",
   "execution_count": 36,
   "metadata": {},
   "outputs": [
    {
     "data": {
      "text/plain": [
       "array([[ 0,  1,  2,  3],\n",
       "       [ 4,  5,  6,  7],\n",
       "       [ 8,  9, 10, 11]])"
      ]
     },
     "execution_count": 36,
     "metadata": {},
     "output_type": "execute_result"
    }
   ],
   "source": [
    "# Reshaping arrays:\n",
    "d = c.reshape((3,4))\n",
    "d"
   ]
  },
  {
   "cell_type": "markdown",
   "metadata": {},
   "source": [
    "### Task 06:"
   ]
  },
  {
   "cell_type": "code",
   "execution_count": 37,
   "metadata": {},
   "outputs": [
    {
     "data": {
      "text/plain": [
       "array([[3, 4],\n",
       "       [1, 0],\n",
       "       [1, 2]])"
      ]
     },
     "execution_count": 37,
     "metadata": {},
     "output_type": "execute_result"
    }
   ],
   "source": [
    "# change the shape of array b from 2 by 3 to 3 by 2\n",
    "new_b = b.reshape((3,2))\n",
    "new_b"
   ]
  },
  {
   "cell_type": "markdown",
   "metadata": {},
   "source": [
    "### Task 07:"
   ]
  },
  {
   "cell_type": "code",
   "execution_count": 38,
   "metadata": {},
   "outputs": [],
   "source": [
    "np.concatenate?"
   ]
  },
  {
   "cell_type": "code",
   "execution_count": 39,
   "metadata": {},
   "outputs": [],
   "source": [
    "np.vstack?"
   ]
  },
  {
   "cell_type": "code",
   "execution_count": 40,
   "metadata": {},
   "outputs": [],
   "source": [
    "np.hstack?"
   ]
  },
  {
   "cell_type": "code",
   "execution_count": 41,
   "metadata": {},
   "outputs": [],
   "source": [
    "np.split?"
   ]
  },
  {
   "cell_type": "code",
   "execution_count": 42,
   "metadata": {},
   "outputs": [],
   "source": [
    "np.hsplit?"
   ]
  },
  {
   "cell_type": "code",
   "execution_count": 43,
   "metadata": {},
   "outputs": [],
   "source": [
    "np.vsplit?"
   ]
  },
  {
   "cell_type": "code",
   "execution_count": 44,
   "metadata": {},
   "outputs": [
    {
     "data": {
      "text/plain": [
       "array([[10,  9,  8],\n",
       "       [ 0,  1,  2]])"
      ]
     },
     "execution_count": 44,
     "metadata": {},
     "output_type": "execute_result"
    }
   ],
   "source": [
    "# Generating a two-dimensional array:\n",
    "M = np.array([[10,9,8],[0,1,2]])\n",
    "M"
   ]
  },
  {
   "cell_type": "code",
   "execution_count": 45,
   "metadata": {},
   "outputs": [
    {
     "data": {
      "text/plain": [
       "array([[10,  9,  8, 10,  9,  8],\n",
       "       [ 0,  1,  2,  0,  1,  2]])"
      ]
     },
     "execution_count": 45,
     "metadata": {},
     "output_type": "execute_result"
    }
   ],
   "source": [
    "Q = np.concatenate([M,M],axis=1)\n",
    "Q"
   ]
  },
  {
   "cell_type": "code",
   "execution_count": 46,
   "metadata": {},
   "outputs": [
    {
     "data": {
      "text/plain": [
       "array([[10,  9,  8],\n",
       "       [ 0,  1,  2],\n",
       "       [10,  9,  8],\n",
       "       [ 0,  1,  2]])"
      ]
     },
     "execution_count": 46,
     "metadata": {},
     "output_type": "execute_result"
    }
   ],
   "source": [
    "R = np.concatenate([M,M],axis=0)\n",
    "R"
   ]
  },
  {
   "cell_type": "code",
   "execution_count": 47,
   "metadata": {},
   "outputs": [
    {
     "data": {
      "text/plain": [
       "array([[10,  9,  8],\n",
       "       [ 0,  1,  2],\n",
       "       [10,  9,  8],\n",
       "       [ 0,  1,  2]])"
      ]
     },
     "execution_count": 47,
     "metadata": {},
     "output_type": "execute_result"
    }
   ],
   "source": [
    "S = np.vstack([M,M])\n",
    "S"
   ]
  },
  {
   "cell_type": "code",
   "execution_count": 48,
   "metadata": {},
   "outputs": [
    {
     "data": {
      "text/plain": [
       "array([[10,  9,  8, 10,  9,  8],\n",
       "       [ 0,  1,  2,  0,  1,  2]])"
      ]
     },
     "execution_count": 48,
     "metadata": {},
     "output_type": "execute_result"
    }
   ],
   "source": [
    "T = np.hstack([M,M])\n",
    "T"
   ]
  },
  {
   "cell_type": "code",
   "execution_count": 49,
   "metadata": {},
   "outputs": [
    {
     "data": {
      "text/plain": [
       "[array([1, 2, 3]),\n",
       " array([41, 52]),\n",
       " array([ 8,  9, 10]),\n",
       " array([], dtype=int32)]"
      ]
     },
     "execution_count": 49,
     "metadata": {},
     "output_type": "execute_result"
    }
   ],
   "source": [
    "x1= np.array([1, 2, 3, 41, 52, 8, 9, 10])\n",
    "np.split(x1,[3,5,8])"
   ]
  },
  {
   "cell_type": "code",
   "execution_count": 50,
   "metadata": {},
   "outputs": [
    {
     "data": {
      "text/plain": [
       "array([-10,   2,   3,  -5])"
      ]
     },
     "execution_count": 50,
     "metadata": {},
     "output_type": "execute_result"
    }
   ],
   "source": [
    "x2 = np.array([-10, 2, 3,-5])\n",
    "x2"
   ]
  },
  {
   "cell_type": "code",
   "execution_count": 51,
   "metadata": {},
   "outputs": [
    {
     "name": "stdout",
     "output_type": "stream",
     "text": [
      "[10  2  3  5]\n",
      "[-6  6  7 -1]\n",
      "[-13  -1   0  -8]\n",
      "[10 -2 -3  5]\n",
      "[0 0 1 1]\n"
     ]
    }
   ],
   "source": [
    "print(np.abs(x2))\n",
    "print(x2+4)\n",
    "print(x2-3)\n",
    "print(-x2)\n",
    "print(x2%2)"
   ]
  },
  {
   "cell_type": "code",
   "execution_count": 52,
   "metadata": {},
   "outputs": [
    {
     "name": "stdout",
     "output_type": "stream",
     "text": [
      "[False  True False False]\n",
      "[ True False  True  True]\n",
      "[ True False False  True]\n",
      "[ True  True False  True]\n",
      "[False False  True False]\n",
      "[False  True  True False]\n"
     ]
    }
   ],
   "source": [
    "print(np.equal(x2,2))\n",
    "print(np.not_equal(x2,2))\n",
    "print(np.less(x2,2))\n",
    "print(np.less_equal(x2,2))\n",
    "print(np.greater(x2,2))\n",
    "print(np.greater_equal(x2,2))"
   ]
  },
  {
   "cell_type": "markdown",
   "metadata": {},
   "source": [
    "### Task 10:"
   ]
  },
  {
   "cell_type": "code",
   "execution_count": 53,
   "metadata": {},
   "outputs": [
    {
     "name": "stdout",
     "output_type": "stream",
     "text": [
      "-10\n",
      "300\n",
      "-2.5\n",
      "5.315072906367325\n",
      "28.25\n",
      "-10\n",
      "3\n",
      "0\n",
      "2\n",
      "-1.5\n",
      "True\n",
      "True\n"
     ]
    }
   ],
   "source": [
    "print(np.sum(x2))\n",
    "print(np.prod(x2))\n",
    "print(np.mean(x2))\n",
    "print(np.std(x2))\n",
    "print(np.var(x2))\n",
    "print(np.min(x2))\n",
    "print(np.max(x2))\n",
    "print(np.argmin(x2))\n",
    "print(np.argmax(x2))\n",
    "print(np.median(x2))\n",
    "print(np.any(x2))\n",
    "print(np.all(x2))"
   ]
  },
  {
   "cell_type": "markdown",
   "metadata": {},
   "source": [
    "### Task 11:"
   ]
  },
  {
   "cell_type": "code",
   "execution_count": 54,
   "metadata": {},
   "outputs": [
    {
     "data": {
      "text/plain": [
       "array([ 0,  1,  2,  3,  4,  5,  6,  7,  8,  9, 10, 11, 12, 13, 14])"
      ]
     },
     "execution_count": 54,
     "metadata": {},
     "output_type": "execute_result"
    }
   ],
   "source": [
    "x3 = np.arange(15)\n",
    "x3"
   ]
  },
  {
   "cell_type": "code",
   "execution_count": 55,
   "metadata": {},
   "outputs": [
    {
     "data": {
      "text/plain": [
       "1814400"
      ]
     },
     "execution_count": 55,
     "metadata": {},
     "output_type": "execute_result"
    }
   ],
   "source": [
    "'''Compute the product of elements in x3 whose\n",
    "value is in between 3 and 10 inclusive  '''\n",
    "\n",
    "px3 = np.prod(x3[(x3>=3) & (x3<=10)])\n",
    "px3"
   ]
  },
  {
   "cell_type": "code",
   "execution_count": 56,
   "metadata": {},
   "outputs": [
    {
     "data": {
      "text/plain": [
       "array([14, 25, 17, 33, 34, 47, 46, 42, 18,  7])"
      ]
     },
     "execution_count": 56,
     "metadata": {},
     "output_type": "execute_result"
    }
   ],
   "source": [
    "rand = np.random.RandomState(seed = 143)\n",
    "rx = rand.randint(50,size=10)\n",
    "rx"
   ]
  },
  {
   "cell_type": "code",
   "execution_count": 57,
   "metadata": {},
   "outputs": [
    {
     "data": {
      "text/plain": [
       "array([7, 6, 5, 2, 3])"
      ]
     },
     "execution_count": 57,
     "metadata": {},
     "output_type": "execute_result"
    }
   ],
   "source": [
    "np.random.choice?\n",
    "indices = np.random.choice(rx.shape[0],5,replace = False)\n",
    "indices"
   ]
  },
  {
   "cell_type": "code",
   "execution_count": 58,
   "metadata": {},
   "outputs": [
    {
     "data": {
      "text/plain": [
       "array([42, 46, 47, 17, 33])"
      ]
     },
     "execution_count": 58,
     "metadata": {},
     "output_type": "execute_result"
    }
   ],
   "source": [
    "selected = rx[indices]\n",
    "selected"
   ]
  },
  {
   "cell_type": "markdown",
   "metadata": {},
   "source": [
    "### Taks 12:"
   ]
  },
  {
   "cell_type": "code",
   "execution_count": 59,
   "metadata": {},
   "outputs": [
    {
     "name": "stdout",
     "output_type": "stream",
     "text": [
      "[14 25  0  0 34  0  0  0 18  7]\n"
     ]
    }
   ],
   "source": [
    "#  modify the value of those 5 selected elements to zero:\n",
    "rx[indices] = 0\n",
    "print(rx)"
   ]
  },
  {
   "cell_type": "code",
   "execution_count": 60,
   "metadata": {},
   "outputs": [
    {
     "name": "stdout",
     "output_type": "stream",
     "text": [
      "[10  9 -1  3]\n"
     ]
    }
   ],
   "source": [
    "x4 = np.array([10, 9, -1, 3])\n",
    "print(x4)"
   ]
  },
  {
   "cell_type": "markdown",
   "metadata": {},
   "source": [
    "### Task 13: "
   ]
  },
  {
   "cell_type": "code",
   "execution_count": 61,
   "metadata": {},
   "outputs": [
    {
     "data": {
      "text/plain": [
       "array([10,  9,  3, -1])"
      ]
     },
     "execution_count": 61,
     "metadata": {},
     "output_type": "execute_result"
    }
   ],
   "source": [
    "# sort x4 in descending order\n",
    "\n",
    "'''x4[::-1].sort()\n",
    "    x4.sort()'''\n",
    "\n",
    "np.sort?\n",
    "np.argsort?\n",
    "\n",
    "np.sort(x4)[::-1]"
   ]
  },
  {
   "cell_type": "markdown",
   "metadata": {},
   "source": [
    "## More Practice:\n",
    "### Exercise 1:"
   ]
  },
  {
   "cell_type": "code",
   "execution_count": 112,
   "metadata": {},
   "outputs": [
    {
     "data": {
      "text/plain": [
       "array([[ 59,  76],\n",
       "       [ 16,  48],\n",
       "       [-33,  33],\n",
       "       [ 56,  73],\n",
       "       [  7,  46],\n",
       "       [ 63,  76],\n",
       "       [ -3,  23],\n",
       "       [-18,  61],\n",
       "       [ 33,  28],\n",
       "       [ 46,  18],\n",
       "       [ -1,   5],\n",
       "       [-48,  34],\n",
       "       [-11,  16],\n",
       "       [ 34,  -3],\n",
       "       [ 85,  55],\n",
       "       [ 49,  74],\n",
       "       [ 42,  52],\n",
       "       [ 47,  68],\n",
       "       [ 44, -16],\n",
       "       [ 26,  81],\n",
       "       [ 56,  19],\n",
       "       [ 14,  25],\n",
       "       [  8,  88],\n",
       "       [-28,  96],\n",
       "       [-35,  20],\n",
       "       [ 59,  65],\n",
       "       [ 84, -36],\n",
       "       [ 53,  79],\n",
       "       [ -7,  51],\n",
       "       [-25,   6],\n",
       "       [ -1, -38],\n",
       "       [-32, -49],\n",
       "       [  1,  67],\n",
       "       [ -2,   6],\n",
       "       [ 36, -47],\n",
       "       [ 17,  89],\n",
       "       [ 99,  53],\n",
       "       [ 48, -47],\n",
       "       [ 89, -47],\n",
       "       [-44, -41],\n",
       "       [ 37, -36],\n",
       "       [ 71,  90],\n",
       "       [-23, -12],\n",
       "       [ 95,  60],\n",
       "       [ 24,  49],\n",
       "       [ 66,  49],\n",
       "       [ -3, -34],\n",
       "       [ 83,  54],\n",
       "       [ 59,  36],\n",
       "       [ -4, -35],\n",
       "       [  9, -10],\n",
       "       [ -5, -50],\n",
       "       [ 79,  18],\n",
       "       [ 85,  43],\n",
       "       [ 10,  15],\n",
       "       [ 66,  17],\n",
       "       [ -6,   1],\n",
       "       [ 85,  38],\n",
       "       [ 91,  58],\n",
       "       [ 13,  34],\n",
       "       [ 69,  71],\n",
       "       [ 66,   8],\n",
       "       [ 27, -42],\n",
       "       [ 84,  15],\n",
       "       [-10,  69],\n",
       "       [ 26,  73],\n",
       "       [ 85, -37],\n",
       "       [-49,  13],\n",
       "       [-47, -33],\n",
       "       [ 38,  47],\n",
       "       [  0,  51],\n",
       "       [ 80,  96],\n",
       "       [ -4,  -5],\n",
       "       [-32,  23],\n",
       "       [ 12,  89],\n",
       "       [ 42,  88],\n",
       "       [ 81,  -5],\n",
       "       [ 72, -25],\n",
       "       [-23,  60],\n",
       "       [-47,  49],\n",
       "       [ 35,   6],\n",
       "       [ 37,  50],\n",
       "       [ 82,  19],\n",
       "       [ 62,   6],\n",
       "       [ 10,  87],\n",
       "       [ 19,  74],\n",
       "       [ 87, -22],\n",
       "       [ 16, -40],\n",
       "       [-47, -47],\n",
       "       [-27, -16],\n",
       "       [-13,  -1],\n",
       "       [ 37,  35],\n",
       "       [ 95,  -5],\n",
       "       [-40,  86],\n",
       "       [-25,  49],\n",
       "       [ 17,  65],\n",
       "       [ 15, -43],\n",
       "       [ 49,  83],\n",
       "       [ 87,  18],\n",
       "       [ 99,  39]])"
      ]
     },
     "execution_count": 112,
     "metadata": {},
     "output_type": "execute_result"
    }
   ],
   "source": [
    "# np.random.randint?\n",
    "import numpy as np\n",
    "import matplotlib.pyplot as plt\n",
    "\n",
    "np.random.seed(123)\n",
    "MyFirstDataSet = np.random.randint(-50,100,size=(100,2))\n",
    "MyFirstDataSet"
   ]
  },
  {
   "cell_type": "code",
   "execution_count": 113,
   "metadata": {},
   "outputs": [
    {
     "data": {
      "image/png": "[encoded data removed]",
      "text/plain": [
       "<Figure size 432x288 with 1 Axes>"
      ]
     },
     "metadata": {
      "needs_background": "light"
     },
     "output_type": "display_data"
    }
   ],
   "source": [
    "plt.scatter(MyFirstDataSet[:,0],MyFirstDataSet[:,1])\n",
    "plt.show()"
   ]
  },
  {
   "cell_type": "markdown",
   "metadata": {},
   "source": [
    "### Exercise 2:"
   ]
  },
  {
   "cell_type": "code",
   "execution_count": 114,
   "metadata": {},
   "outputs": [
    {
     "name": "stdout",
     "output_type": "stream",
     "text": [
      "-49 99\n"
     ]
    }
   ],
   "source": [
    "min0 = np.min(MyFirstDataSet[:,0])\n",
    "max0 = np.max(MyFirstDataSet[:,0])\n",
    "print(min0,max0)"
   ]
  },
  {
   "cell_type": "code",
   "execution_count": 115,
   "metadata": {},
   "outputs": [
    {
     "name": "stdout",
     "output_type": "stream",
     "text": [
      "-50 96\n"
     ]
    }
   ],
   "source": [
    "min1 = np.min(MyFirstDataSet[:,1])\n",
    "max1 = np.max(MyFirstDataSet[:,1])\n",
    "print(min1,max1)"
   ]
  },
  {
   "cell_type": "code",
   "execution_count": 116,
   "metadata": {},
   "outputs": [
    {
     "name": "stdout",
     "output_type": "stream",
     "text": [
      "-0.3310810810810811 0.9966668934086117\n"
     ]
    }
   ],
   "source": [
    "min0 = np.min(MyFirstDataSet[:,0]/(max0-min0))\n",
    "max0 = np.max(MyFirstDataSet[:,0]/(max0-min0))\n",
    "print(min0,max0)"
   ]
  },
  {
   "cell_type": "code",
   "execution_count": 117,
   "metadata": {},
   "outputs": [
    {
     "name": "stdout",
     "output_type": "stream",
     "text": [
      "-0.3424657534246575 0.9964453291625195\n"
     ]
    }
   ],
   "source": [
    "min1 = np.min(MyFirstDataSet[:,1]/(max1-min1))\n",
    "max1 = np.max(MyFirstDataSet[:,1]/(max1-min1))\n",
    "print(min1,max1)"
   ]
  },
  {
   "cell_type": "code",
   "execution_count": null,
   "metadata": {},
   "outputs": [],
   "source": []
  }
 ],
 "metadata": {
  "kernelspec": {
   "display_name": "Python 3",
   "language": "python",
   "name": "python3"
  },
  "language_info": {
   "codemirror_mode": {
    "name": "ipython",
    "version": 3
   },
   "file_extension": ".py",
   "mimetype": "text/x-python",
   "name": "python",
   "nbconvert_exporter": "python",
   "pygments_lexer": "ipython3",
   "version": "3.7.1"
  }
 },
 "nbformat": 4,
 "nbformat_minor": 2
}
