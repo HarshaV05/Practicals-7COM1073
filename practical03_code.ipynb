{
 "cells": [
  {
   "cell_type": "code",
   "execution_count": 6,
   "metadata": {},
   "outputs": [
    {
     "name": "stdout",
     "output_type": "stream",
     "text": [
      "Help on package sympy:\n",
      "\n",
      "NAME\n",
      "    sympy\n",
      "\n",
      "DESCRIPTION\n",
      "    SymPy is a Python library for symbolic mathematics. It aims to become a\n",
      "    full-featured computer algebra system (CAS) while keeping the code as simple\n",
      "    as possible in order to be comprehensible and easily extensible.  SymPy is\n",
      "    written entirely in Python. It depends on mpmath, and other external libraries\n",
      "    may be optionally for things like plotting support.\n",
      "    \n",
      "    See the webpage for more information and documentation:\n",
      "    \n",
      "        http://sympy.org\n",
      "\n",
      "PACKAGE CONTENTS\n",
      "    abc\n",
      "    assumptions (package)\n",
      "    benchmarks (package)\n",
      "    calculus (package)\n",
      "    categories (package)\n",
      "    codegen (package)\n",
      "    combinatorics (package)\n",
      "    concrete (package)\n",
      "    conftest\n",
      "    core (package)\n",
      "    crypto (package)\n",
      "    deprecated (package)\n",
      "    diffgeom (package)\n",
      "    external (package)\n",
      "    functions (package)\n",
      "    galgebra\n",
      "    geometry (package)\n",
      "    holonomic (package)\n",
      "    integrals (package)\n",
      "    interactive (package)\n",
      "    liealgebras (package)\n",
      "    logic (package)\n",
      "    matrices (package)\n",
      "    ntheory (package)\n",
      "    parsing (package)\n",
      "    physics (package)\n",
      "    plotting (package)\n",
      "    polys (package)\n",
      "    printing (package)\n",
      "    release\n",
      "    sandbox (package)\n",
      "    series (package)\n",
      "    sets (package)\n",
      "    simplify (package)\n",
      "    solvers (package)\n",
      "    stats (package)\n",
      "    strategies (package)\n",
      "    tensor (package)\n",
      "    unify (package)\n",
      "    utilities (package)\n",
      "    vector (package)\n",
      "\n",
      "SUBMODULES\n",
      "    add\n",
      "    array\n",
      "    ask_generated\n",
      "    assume\n",
      "    basic\n",
      "    bivariate\n",
      "    boolalg\n",
      "    cache\n",
      "    class_registry\n",
      "    combinatorial\n",
      "    common\n",
      "    compatibility\n",
      "    conditionset\n",
      "    containers\n",
      "    contains\n",
      "    continued_fraction\n",
      "    coreerrors\n",
      "    cse_main\n",
      "    cse_opts\n",
      "    curve\n",
      "    decorator\n",
      "    decorators\n",
      "    dense\n",
      "    deutils\n",
      "    elementary\n",
      "    ellipse\n",
      "    entity\n",
      "    enumerative\n",
      "    epathtools\n",
      "    evalf\n",
      "    exceptions\n",
      "    expr\n",
      "    expr_with_intlimits\n",
      "    expr_with_limits\n",
      "    expressions\n",
      "    exprtools\n",
      "    factor_\n",
      "    facts\n",
      "    fancysets\n",
      "    function\n",
      "    generate\n",
      "    gosper\n",
      "    immutable\n",
      "    index_methods\n",
      "    indexed\n",
      "    inequalities\n",
      "    inference\n",
      "    iterables\n",
      "    line\n",
      "    magic\n",
      "    manualintegrate\n",
      "    meijerint\n",
      "    memoization\n",
      "    misc\n",
      "    mod\n",
      "    mul\n",
      "    multidimensional\n",
      "    multinomial\n",
      "    numbers\n",
      "    ode\n",
      "    operations\n",
      "    parabola\n",
      "    partitions_\n",
      "    pde\n",
      "    plane\n",
      "    point\n",
      "    polygon\n",
      "    polysys\n",
      "    power\n",
      "    primetest\n",
      "    products\n",
      "    recurr\n",
      "    relational\n",
      "    residue_ntheory\n",
      "    rules\n",
      "    runtests\n",
      "    singleton\n",
      "    singularityfunctions\n",
      "    sparse\n",
      "    special\n",
      "    summations\n",
      "    symbol\n",
      "    timeutils\n",
      "    transforms\n",
      "    traversaltools\n",
      "    trigonometry\n",
      "    util\n",
      "\n",
      "DATA\n",
      "    C = <sympy.deprecated.class_registry.ClassRegistry object>\n",
      "    CC = CC\n",
      "    Catalan = Catalan\n",
      "    E = E\n",
      "    EX = EX\n",
      "    EulerGamma = EulerGamma\n",
      "    FU = {'L': <function L>, 'TR0': <function TR0>, 'TR1': <function TR1>,...\n",
      "    GoldenRatio = GoldenRatio\n",
      "    I = I\n",
      "    Id = Lambda(_x, _x)\n",
      "    Q = <sympy.assumptions.ask.AssumptionKeys object>\n",
      "    QQ = QQ\n",
      "    RR = RR\n",
      "    S = S\n",
      "    SYMPY_DEBUG = False\n",
      "    ZZ = ZZ\n",
      "    false = False\n",
      "    grevlex = ReversedGradedLexOrder()\n",
      "    grlex = GradedLexOrder()\n",
      "    igrevlex = InverseOrder()\n",
      "    igrlex = InverseOrder()\n",
      "    ilex = InverseOrder()\n",
      "    lex = LexOrder()\n",
      "    nan = nan\n",
      "    oo = oo\n",
      "    pi = pi\n",
      "    plot_backends = {'default': <class 'sympy.plotting.plot.DefaultBackend...\n",
      "    sieve = <Sieve with 6 primes sieved: 2, 3, 5, ... 11, 13>\n",
      "    true = True\n",
      "    zoo = zoo\n",
      "\n",
      "VERSION\n",
      "    1.1.1\n",
      "\n",
      "FILE\n",
      "    c:\\program files (x86)\\microsoft visual studio\\shared\\anaconda3_64\\lib\\site-packages\\sympy\\__init__.py\n",
      "\n",
      "\n"
     ]
    }
   ],
   "source": [
    "import sympy\n",
    "help(sympy)"
   ]
  },
  {
   "cell_type": "code",
   "execution_count": 21,
   "metadata": {},
   "outputs": [
    {
     "name": "stdout",
     "output_type": "stream",
     "text": [
      "<class 'sympy.sets.sets.FiniteSet'>\n",
      "9\n"
     ]
    }
   ],
   "source": [
    "from sympy import FiniteSet as FS\n",
    "\n",
    "set1 = FiniteSet(1,2,3,4,5,6,7,8,9,)\n",
    "set1\n",
    "print(type(set1))\n",
    "print(len(set1))"
   ]
  },
  {
   "cell_type": "code",
   "execution_count": 22,
   "metadata": {},
   "outputs": [
    {
     "data": {
      "text/plain": [
       "EmptySet()"
      ]
     },
     "execution_count": 22,
     "metadata": {},
     "output_type": "execute_result"
    }
   ],
   "source": [
    "s1 = FiniteSet(2/5,4,10.6)\n",
    "s1\n",
    "\n",
    "s2 = FiniteSet()\n",
    "s2"
   ]
  },
  {
   "cell_type": "code",
   "execution_count": 23,
   "metadata": {},
   "outputs": [
    {
     "data": {
      "text/plain": [
       "0"
      ]
     },
     "execution_count": 23,
     "metadata": {},
     "output_type": "execute_result"
    }
   ],
   "source": [
    "len(s1)\n",
    "len(s2)"
   ]
  },
  {
   "cell_type": "code",
   "execution_count": 24,
   "metadata": {},
   "outputs": [
    {
     "data": {
      "text/plain": [
       "{0, 2, 3, 6}"
      ]
     },
     "execution_count": 24,
     "metadata": {},
     "output_type": "execute_result"
    }
   ],
   "source": [
    "L1 = [0,2,3,6,2]\n",
    "s3 = FiniteSet(*L1)\n",
    "s3"
   ]
  },
  {
   "cell_type": "code",
   "execution_count": 25,
   "metadata": {},
   "outputs": [
    {
     "data": {
      "text/plain": [
       "False"
      ]
     },
     "execution_count": 25,
     "metadata": {},
     "output_type": "execute_result"
    }
   ],
   "source": [
    "-1 in s1"
   ]
  },
  {
   "cell_type": "code",
   "execution_count": 26,
   "metadata": {},
   "outputs": [
    {
     "data": {
      "text/plain": [
       "True"
      ]
     },
     "execution_count": 26,
     "metadata": {},
     "output_type": "execute_result"
    }
   ],
   "source": [
    "4 in s1"
   ]
  },
  {
   "cell_type": "code",
   "execution_count": 27,
   "metadata": {},
   "outputs": [
    {
     "data": {
      "text/plain": [
       "True"
      ]
     },
     "execution_count": 27,
     "metadata": {},
     "output_type": "execute_result"
    }
   ],
   "source": [
    "s4=FS(2,3,7)\n",
    "s5=FS(3,7,2)\n",
    "s4==s5"
   ]
  },
  {
   "cell_type": "code",
   "execution_count": 28,
   "metadata": {},
   "outputs": [
    {
     "data": {
      "text/plain": [
       "True"
      ]
     },
     "execution_count": 28,
     "metadata": {},
     "output_type": "execute_result"
    }
   ],
   "source": [
    "#Subsets and Power sets\n",
    "s=FS(2)\n",
    "s.is_subset(s4)"
   ]
  },
  {
   "cell_type": "code",
   "execution_count": 29,
   "metadata": {},
   "outputs": [
    {
     "data": {
      "text/plain": [
       "True"
      ]
     },
     "execution_count": 29,
     "metadata": {},
     "output_type": "execute_result"
    }
   ],
   "source": [
    "s.is_proper_subset(s4)"
   ]
  },
  {
   "cell_type": "code",
   "execution_count": 30,
   "metadata": {},
   "outputs": [
    {
     "data": {
      "text/plain": [
       "{0.4, 4, 10.6}"
      ]
     },
     "execution_count": 30,
     "metadata": {},
     "output_type": "execute_result"
    }
   ],
   "source": [
    "s1"
   ]
  },
  {
   "cell_type": "code",
   "execution_count": 31,
   "metadata": {},
   "outputs": [
    {
     "data": {
      "text/plain": [
       "EmptySet()"
      ]
     },
     "execution_count": 31,
     "metadata": {},
     "output_type": "execute_result"
    }
   ],
   "source": [
    "s2"
   ]
  },
  {
   "cell_type": "code",
   "execution_count": 32,
   "metadata": {},
   "outputs": [
    {
     "data": {
      "text/plain": [
       "False"
      ]
     },
     "execution_count": 32,
     "metadata": {},
     "output_type": "execute_result"
    }
   ],
   "source": [
    "s1.is_subset(s2)"
   ]
  },
  {
   "cell_type": "code",
   "execution_count": 33,
   "metadata": {},
   "outputs": [
    {
     "data": {
      "text/plain": [
       "True"
      ]
     },
     "execution_count": 33,
     "metadata": {},
     "output_type": "execute_result"
    }
   ],
   "source": [
    "s2.is_subset(s1)"
   ]
  },
  {
   "cell_type": "code",
   "execution_count": 39,
   "metadata": {},
   "outputs": [
    {
     "data": {
      "text/plain": [
       "{EmptySet(), {0.4}, {4}, {10.6}, {0.4, 4}, {0.4, 10.6}, {4, 10.6}, {0.4, 4, 10.6}}"
      ]
     },
     "execution_count": 39,
     "metadata": {},
     "output_type": "execute_result"
    }
   ],
   "source": [
    "s1.powerset()"
   ]
  },
  {
   "cell_type": "code",
   "execution_count": 43,
   "metadata": {},
   "outputs": [
    {
     "name": "stdout",
     "output_type": "stream",
     "text": [
      "(2, 1)\n",
      "(2, 3)\n",
      "(2, 5)\n",
      "(3, 1)\n",
      "(3, 3)\n",
      "(3, 5)\n",
      "(7, 1)\n",
      "(7, 3)\n",
      "(7, 5)\n"
     ]
    }
   ],
   "source": [
    "s4 = FS(2,3,7)\n",
    "s6 = FS(1,3,5)\n",
    "\n",
    "for elem in s4*s6:\n",
    "    print(elem)"
   ]
  },
  {
   "cell_type": "code",
   "execution_count": 50,
   "metadata": {},
   "outputs": [
    {
     "data": {
      "text/plain": [
       "{1, 2, 3, 4}"
      ]
     },
     "execution_count": 50,
     "metadata": {},
     "output_type": "execute_result"
    }
   ],
   "source": [
    "x = {1,2,3}\n",
    "x1=x.union({4})\n",
    "x1"
   ]
  },
  {
   "cell_type": "code",
   "execution_count": 51,
   "metadata": {},
   "outputs": [
    {
     "data": {
      "text/plain": [
       "array([ 0.        ,  0.12693304,  0.25386607,  0.38079911,  0.50773215,\n",
       "        0.63466518,  0.76159822,  0.88853126,  1.01546429,  1.14239733,\n",
       "        1.26933037,  1.3962634 ,  1.52319644,  1.65012947,  1.77706251,\n",
       "        1.90399555,  2.03092858,  2.15786162,  2.28479466,  2.41172769,\n",
       "        2.53866073,  2.66559377,  2.7925268 ,  2.91945984,  3.04639288,\n",
       "        3.17332591,  3.30025895,  3.42719199,  3.55412502,  3.68105806,\n",
       "        3.8079911 ,  3.93492413,  4.06185717,  4.1887902 ,  4.31572324,\n",
       "        4.44265628,  4.56958931,  4.69652235,  4.82345539,  4.95038842,\n",
       "        5.07732146,  5.2042545 ,  5.33118753,  5.45812057,  5.58505361,\n",
       "        5.71198664,  5.83891968,  5.96585272,  6.09278575,  6.21971879,\n",
       "        6.34665183,  6.47358486,  6.6005179 ,  6.72745093,  6.85438397,\n",
       "        6.98131701,  7.10825004,  7.23518308,  7.36211612,  7.48904915,\n",
       "        7.61598219,  7.74291523,  7.86984826,  7.9967813 ,  8.12371434,\n",
       "        8.25064737,  8.37758041,  8.50451345,  8.63144648,  8.75837952,\n",
       "        8.88531256,  9.01224559,  9.13917863,  9.26611167,  9.3930447 ,\n",
       "        9.51997774,  9.64691077,  9.77384381,  9.90077685, 10.02770988,\n",
       "       10.15464292, 10.28157596, 10.40850899, 10.53544203, 10.66237507,\n",
       "       10.7893081 , 10.91624114, 11.04317418, 11.17010721, 11.29704025,\n",
       "       11.42397329, 11.55090632, 11.67783936, 11.8047724 , 11.93170543,\n",
       "       12.05863847, 12.1855715 , 12.31250454, 12.43943758, 12.56637061])"
      ]
     },
     "execution_count": 51,
     "metadata": {},
     "output_type": "execute_result"
    }
   ],
   "source": [
    "# More about NumPy’s Functions\n",
    "import numpy as np\n",
    "theta = np.linspace(0,4*np.pi,100)\n",
    "theta"
   ]
  },
  {
   "cell_type": "code",
   "execution_count": 54,
   "metadata": {},
   "outputs": [
    {
     "data": {
      "text/plain": [
       "-0.9998741276738751"
      ]
     },
     "execution_count": 54,
     "metadata": {},
     "output_type": "execute_result"
    }
   ],
   "source": [
    "max(np.sin(theta))\n",
    "min(np.sin(theta))"
   ]
  },
  {
   "cell_type": "code",
   "execution_count": 63,
   "metadata": {},
   "outputs": [
    {
     "data": {
      "image/png": "[encoded data removed]",
      "text/plain": [
       "<Figure size 432x288 with 1 Axes>"
      ]
     },
     "metadata": {},
     "output_type": "display_data"
    }
   ],
   "source": [
    "import matplotlib.pyplot as plt\n",
    "plt.plot(theta,np.sin(theta))\n",
    "plt.plot(theta,np.cos(theta),'ro')\n",
    "plt.show()"
   ]
  },
  {
   "cell_type": "code",
   "execution_count": 64,
   "metadata": {},
   "outputs": [
    {
     "data": {
      "image/png": "[encoded data removed]",
      "text/plain": [
       "<Figure size 432x288 with 1 Axes>"
      ]
     },
     "metadata": {},
     "output_type": "display_data"
    }
   ],
   "source": [
    "import matplotlib.pyplot as plt\n",
    "plt.plot(theta,np.cos(theta),'ro')\n",
    "plt.show()"
   ]
  },
  {
   "cell_type": "code",
   "execution_count": 62,
   "metadata": {},
   "outputs": [
    {
     "data": {
      "image/png": "[encoded data removed]",
      "text/plain": [
       "<Figure size 432x288 with 1 Axes>"
      ]
     },
     "metadata": {},
     "output_type": "display_data"
    }
   ],
   "source": [
    "import matplotlib.pyplot as plt\n",
    "plt.plot(theta,np.tan(theta),'g--')\n",
    "plt.show()"
   ]
  },
  {
   "cell_type": "code",
   "execution_count": 86,
   "metadata": {},
   "outputs": [
    {
     "name": "stderr",
     "output_type": "stream",
     "text": [
      "C:\\Program Files (x86)\\Microsoft Visual Studio\\Shared\\Anaconda3_64\\lib\\site-packages\\ipykernel_launcher.py:6: RuntimeWarning: divide by zero encountered in log\n",
      "  \n",
      "C:\\Program Files (x86)\\Microsoft Visual Studio\\Shared\\Anaconda3_64\\lib\\site-packages\\ipykernel_launcher.py:7: RuntimeWarning: divide by zero encountered in log2\n",
      "  import sys\n",
      "C:\\Program Files (x86)\\Microsoft Visual Studio\\Shared\\Anaconda3_64\\lib\\site-packages\\ipykernel_launcher.py:8: RuntimeWarning: divide by zero encountered in log10\n",
      "  \n"
     ]
    },
    {
     "data": {
      "image/png": "[encoded data removed]",
      "text/plain": [
       "<Figure size 432x288 with 3 Axes>"
      ]
     },
     "metadata": {},
     "output_type": "display_data"
    }
   ],
   "source": [
    "values = np.linspace(0,10,25)\n",
    "\n",
    "fig,ax = plt.subplots(1,3,sharex=True,sharey=True)\n",
    "ax.set_yticks()\n",
    "ax[0].plot(values,np.log(values))\n",
    "ax[1].plot(values,np.log2(values))\n",
    "ax[2].plot(values,np.log10(values))\n",
    "plt.show()"
   ]
  },
  {
   "cell_type": "code",
   "execution_count": null,
   "metadata": {},
   "outputs": [],
   "source": []
  }
 ],
 "metadata": {
  "kernelspec": {
   "display_name": "Python 3",
   "language": "python",
   "name": "python3"
  },
  "language_info": {
   "codemirror_mode": {
    "name": "ipython",
    "version": 3
   },
   "file_extension": ".py",
   "mimetype": "text/x-python",
   "name": "python",
   "nbconvert_exporter": "python",
   "pygments_lexer": "ipython3",
   "version": "3.6.5"
  }
 },
 "nbformat": 4,
 "nbformat_minor": 2
}
